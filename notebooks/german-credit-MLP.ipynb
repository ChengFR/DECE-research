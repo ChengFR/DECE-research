{
 "cells": [
  {
   "cell_type": "code",
   "execution_count": 1,
   "metadata": {},
   "outputs": [],
   "source": [
    "from load_dataset import load_german_credit_dataset\n",
    "from model_manager import PytorchModelManager\n",
    "from cf_engine.engine import CFEnginePytorch\n",
    "from cf_engine.counterfactual import CounterfactualExampleBySubset"
   ]
  },
  {
   "cell_type": "code",
   "execution_count": 2,
   "metadata": {},
   "outputs": [],
   "source": [
    "import numpy as mp\n",
    "import matplotlib.pyplot as plt\n",
    "import pandas as pd\n",
    "from pandas.plotting import scatter_matrix"
   ]
  },
  {
   "cell_type": "code",
   "execution_count": 3,
   "metadata": {},
   "outputs": [],
   "source": [
    "dataset = load_german_credit_dataset()\n",
    "mm = PytorchModelManager(dataset)\n",
    "dm = mm.get_dir_manager()\n",
    "try:\n",
    "    mm.load_model()\n",
    "except FileNotFoundError:\n",
    "    mm.train()\n",
    "    mm.save_model()\n",
    "# mm.train()\n",
    "engine = CFEnginePytorch(mm, dataset)"
   ]
  },
  {
   "cell_type": "code",
   "execution_count": 4,
   "metadata": {},
   "outputs": [],
   "source": [
    "x = dataset.get_test_dataset(preprocess=False)[dataset.get_feature_names(False)].values"
   ]
  },
  {
   "cell_type": "code",
   "execution_count": 9,
   "metadata": {},
   "outputs": [
    {
     "name": "stdout",
     "output_type": "stream",
     "text": [
      "[32/200]  Epoch-0, time cost: 10.518s, loss: 2328.261, iteration: 2000, validation rate: 0.875\n",
      "[64/200]  Epoch-1, time cost: 11.084s, loss: 1818.962, iteration: 2000, validation rate: 0.906\n",
      "[96/200]  Epoch-2, time cost: 10.510s, loss: 1856.753, iteration: 2000, validation rate: 0.906\n",
      "[128/200]  Epoch-3, time cost: 11.025s, loss: 914.616, iteration: 2000, validation rate: 0.938\n",
      "[160/200]  Epoch-4, time cost: 11.039s, loss: 1389.612, iteration: 2000, validation rate: 0.938\n",
      "[192/200]  Epoch-5, time cost: 11.572s, loss: 861.094, iteration: 2000, validation rate: 0.969\n",
      "[200/200]  Epoch-6, time cost: 7.880s, loss: 595.883, iteration: 2000, validation rate: 0.875\n",
      "Total time cost: 73.904, validation rate: 0.920, average distance: 1.392, average loss: 1490.923\n"
     ]
    }
   ],
   "source": [
    "setting = {'index': 'test', 'changeable_attribute': 'all', 'cf_num': 1, 'desired_class': 'opposite', 'weight': 'mads'}\n",
    "subset_cf = engine.generate_cfs_from_setting(setting, use_cache=False, batch_size=32,\\\n",
    "                                             proximity_weight=0.01, diversity_weight=0,\\\n",
    "                                             loss_diff=1e-6, post_step=10, max_iter=2000, lr=0.01, cache=False)"
   ]
  },
  {
   "cell_type": "code",
   "execution_count": 10,
   "metadata": {},
   "outputs": [
    {
     "name": "stdout",
     "output_type": "stream",
     "text": [
      "[200/200]  Epoch-0, time cost: 16.215s, loss: 10342.346, iteration: 2000, validation rate: 0.900\n",
      "Total time cost: 16.490, validation rate: 0.900, average distance: 1.299, average loss: 10342.346\n"
     ]
    }
   ],
   "source": [
    "setting = {'index': 'test', 'changeable_attribute': 'all', 'cf_num': 1, 'desired_class': 'opposite', 'weight': 'mads'}\n",
    "subset_cf = engine.generate_cfs_from_setting(setting, use_cache=False, batch_size=256,\\\n",
    "                                             proximity_weight=0.01, diversity_weight=0,\\\n",
    "                                             loss_diff=1e-6, post_step=10, max_iter=2000, lr=0.01, cache=False)"
   ]
  },
  {
   "cell_type": "code",
   "execution_count": 11,
   "metadata": {},
   "outputs": [
    {
     "name": "stdout",
     "output_type": "stream",
     "text": [
      "[200/200]  Epoch-0, time cost: 17.359s, loss: 35479.107, iteration: 2000, validation rate: 0.735\n",
      "Total time cost: 17.621, validation rate: 0.735, average distance: 1.020, average loss: 35479.107\n"
     ]
    }
   ],
   "source": [
    "setting = {'index': 'test', 'changeable_attribute': 'all', 'cf_num': 1, 'desired_class': 'opposite', 'weight': 'mads'}\n",
    "subset_cf = engine.generate_cfs_from_setting(setting, use_cache=False, batch_size=256,\\\n",
    "                                             proximity_weight=0.1, diversity_weight=0,\\\n",
    "                                             loss_diff=1e-6, post_step=10, max_iter=2000, lr=0.01, cache=False)"
   ]
  },
  {
   "cell_type": "code",
   "execution_count": null,
   "metadata": {},
   "outputs": [],
   "source": []
  }
 ],
 "metadata": {
  "kernelspec": {
   "display_name": "cf-env21",
   "language": "python",
   "name": "cf-env21"
  },
  "language_info": {
   "codemirror_mode": {
    "name": "ipython",
    "version": 3
   },
   "file_extension": ".py",
   "mimetype": "text/x-python",
   "name": "python",
   "nbconvert_exporter": "python",
   "pygments_lexer": "ipython3",
   "version": "3.7.1"
  }
 },
 "nbformat": 4,
 "nbformat_minor": 2
}
