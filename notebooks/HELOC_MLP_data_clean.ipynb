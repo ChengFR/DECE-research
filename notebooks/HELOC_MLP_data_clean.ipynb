{
 "cells": [
  {
   "cell_type": "code",
   "execution_count": 1,
   "metadata": {},
   "outputs": [],
   "source": [
    "import numpy as np\n",
    "import pandas as pd"
   ]
  },
  {
   "cell_type": "code",
   "execution_count": 2,
   "metadata": {},
   "outputs": [],
   "source": [
    "heloc_dataset = pd.read_csv('../data/HELOC/heloc_dataset_v1.csv')"
   ]
  },
  {
   "cell_type": "code",
   "execution_count": 3,
   "metadata": {},
   "outputs": [],
   "source": [
    "heloc_dataset.replace({'RiskPerformance': 'Good'}, 1, inplace=True)\n",
    "heloc_dataset.replace({'RiskPerformance': 'Bad'}, 0, inplace=True)"
   ]
  },
  {
   "cell_type": "code",
   "execution_count": 4,
   "metadata": {},
   "outputs": [],
   "source": [
    "attr_count = heloc_dataset[heloc_dataset > -7].count(axis=1)"
   ]
  },
  {
   "cell_type": "code",
   "execution_count": 5,
   "metadata": {},
   "outputs": [
    {
     "data": {
      "text/plain": [
       "23    3863\n",
       "24    2502\n",
       "22    2241\n",
       "21     906\n",
       "1      588\n",
       "20     271\n",
       "19      59\n",
       "18      12\n",
       "17       9\n",
       "16       6\n",
       "15       2\n",
       "dtype: int64"
      ]
     },
     "execution_count": 5,
     "metadata": {},
     "output_type": "execute_result"
    }
   ],
   "source": [
    "attr_count.value_counts()"
   ]
  },
  {
   "cell_type": "code",
   "execution_count": 6,
   "metadata": {},
   "outputs": [],
   "source": [
    "cleaned_df = heloc_dataset.drop(attr_count.loc[attr_count < 10].index.tolist())"
   ]
  },
  {
   "cell_type": "code",
   "execution_count": 7,
   "metadata": {},
   "outputs": [],
   "source": [
    "heloc_dataset.to_csv('../data/HELOC/heloc_dataset_v1.csv', index=False)\n",
    "cleaned_df.to_csv('../data/HELOC/heloc_dataset_v2.csv', index=False)"
   ]
  },
  {
   "cell_type": "code",
   "execution_count": 8,
   "metadata": {
    "scrolled": true
   },
   "outputs": [
    {
     "data": {
      "text/plain": [
       "RiskPerformance                          0\n",
       "ExternalRiskEstimate                    10\n",
       "MSinceOldestTradeOpen                  239\n",
       "MSinceMostRecentTradeOpen                0\n",
       "AverageMInFile                           0\n",
       "NumSatisfactoryTrades                    0\n",
       "NumTrades60Ever2DerogPubRec              0\n",
       "NumTrades90Ever2DerogPubRec              0\n",
       "PercentTradesNeverDelq                   0\n",
       "MSinceMostRecentDelq                  4840\n",
       "MaxDelq2PublicRecLast12M                 0\n",
       "MaxDelqEver                              0\n",
       "NumTotalTrades                           0\n",
       "NumTradesOpeninLast12M                   0\n",
       "PercentInstallTrades                     0\n",
       "MSinceMostRecentInqexcl7days          2331\n",
       "NumInqLast6M                             0\n",
       "NumInqLast6Mexcl7days                    0\n",
       "NetFractionRevolvingBurden             186\n",
       "NetFractionInstallBurden              3419\n",
       "NumRevolvingTradesWBalance             156\n",
       "NumInstallTradesWBalance               861\n",
       "NumBank2NatlTradesWHighUtilization     583\n",
       "PercentTradesWBalance                   18\n",
       "dtype: int64"
      ]
     },
     "execution_count": 8,
     "metadata": {},
     "output_type": "execute_result"
    }
   ],
   "source": [
    "cleaned_df[cleaned_df < -6].count()"
   ]
  },
  {
   "cell_type": "code",
   "execution_count": null,
   "metadata": {},
   "outputs": [],
   "source": []
  }
 ],
 "metadata": {
  "kernelspec": {
   "display_name": "cf-env",
   "language": "python",
   "name": "cf-env"
  },
  "language_info": {
   "codemirror_mode": {
    "name": "ipython",
    "version": 3
   },
   "file_extension": ".py",
   "mimetype": "text/x-python",
   "name": "python",
   "nbconvert_exporter": "python",
   "pygments_lexer": "ipython3",
   "version": "3.7.1"
  }
 },
 "nbformat": 4,
 "nbformat_minor": 2
}
