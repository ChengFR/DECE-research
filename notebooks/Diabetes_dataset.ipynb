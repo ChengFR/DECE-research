{
 "cells": [
  {
   "cell_type": "code",
   "execution_count": 1,
   "metadata": {},
   "outputs": [],
   "source": [
    "from load_dataset import load_diabetes_dataset\n",
    "from model_manager import PytorchModelManager\n",
    "from cf_engine.engine import CFEnginePytorch\n",
    "from cf_engine.counterfactual import CounterfactualExampleBySubset"
   ]
  },
  {
   "cell_type": "code",
   "execution_count": 2,
   "metadata": {},
   "outputs": [],
   "source": [
    "import numpy as mp\n",
    "import matplotlib.pyplot as plt\n",
    "import pandas as pd\n",
    "from pandas.plotting import scatter_matrix"
   ]
  },
  {
   "cell_type": "code",
   "execution_count": 5,
   "metadata": {
    "scrolled": true
   },
   "outputs": [
    {
     "name": "stderr",
     "output_type": "stream",
     "text": [
      "/Users/chengfurui/Projects/counterfactuals/cf_ml/dataset.py:94: SettingWithCopyWarning: \n",
      "A value is trying to be set on a copy of a slice from a DataFrame.\n",
      "Try using .loc[row_indexer,col_indexer] = value instead\n",
      "\n",
      "See the caveats in the documentation: https://pandas.pydata.org/pandas-docs/stable/user_guide/indexing.html#returning-a-view-versus-a-copy\n",
      "  data_df[col] = (data_df[col] - minx)/(maxx-minx)\n",
      "/Users/chengfurui/Projects/counterfactuals/env/lib/python3.7/site-packages/torch/nn/functional.py:1351: UserWarning: nn.functional.sigmoid is deprecated. Use torch.sigmoid instead.\n",
      "  warnings.warn(\"nn.functional.sigmoid is deprecated. Use torch.sigmoid instead.\")\n"
     ]
    },
    {
     "name": "stdout",
     "output_type": "stream",
     "text": [
      "Epoch: 0, loss=0.598, train_accuracy=0.640, test_accuracy=0.695\n",
      "Epoch: 1, loss=0.449, train_accuracy=0.642, test_accuracy=0.695\n",
      "Epoch: 2, loss=0.541, train_accuracy=0.640, test_accuracy=0.695\n",
      "Epoch: 3, loss=0.720, train_accuracy=0.707, test_accuracy=0.727\n",
      "Epoch: 4, loss=0.408, train_accuracy=0.712, test_accuracy=0.727\n",
      "Epoch: 5, loss=0.578, train_accuracy=0.686, test_accuracy=0.747\n",
      "Epoch: 6, loss=0.505, train_accuracy=0.710, test_accuracy=0.747\n",
      "Epoch: 7, loss=0.531, train_accuracy=0.726, test_accuracy=0.747\n",
      "Epoch: 8, loss=0.666, train_accuracy=0.728, test_accuracy=0.760\n",
      "Epoch: 9, loss=0.489, train_accuracy=0.733, test_accuracy=0.760\n",
      "Epoch: 10, loss=0.541, train_accuracy=0.739, test_accuracy=0.760\n",
      "Epoch: 11, loss=1.040, train_accuracy=0.735, test_accuracy=0.760\n",
      "Epoch: 12, loss=0.430, train_accuracy=0.751, test_accuracy=0.766\n",
      "Epoch: 13, loss=0.464, train_accuracy=0.772, test_accuracy=0.786\n",
      "Epoch: 14, loss=0.432, train_accuracy=0.754, test_accuracy=0.760\n",
      "Epoch: 15, loss=0.424, train_accuracy=0.759, test_accuracy=0.766\n",
      "Epoch: 16, loss=1.112, train_accuracy=0.739, test_accuracy=0.760\n",
      "Epoch: 17, loss=0.478, train_accuracy=0.765, test_accuracy=0.786\n",
      "Epoch: 18, loss=0.449, train_accuracy=0.761, test_accuracy=0.760\n",
      "Epoch: 19, loss=0.612, train_accuracy=0.754, test_accuracy=0.786\n",
      "Epoch: 20, loss=0.718, train_accuracy=0.767, test_accuracy=0.799\n",
      "Epoch: 21, loss=0.819, train_accuracy=0.765, test_accuracy=0.786\n",
      "Epoch: 22, loss=0.714, train_accuracy=0.769, test_accuracy=0.779\n",
      "Epoch: 23, loss=0.298, train_accuracy=0.769, test_accuracy=0.779\n",
      "Epoch: 24, loss=0.373, train_accuracy=0.772, test_accuracy=0.779\n",
      "Epoch: 25, loss=0.623, train_accuracy=0.761, test_accuracy=0.792\n",
      "Epoch: 26, loss=0.387, train_accuracy=0.772, test_accuracy=0.779\n",
      "Epoch: 27, loss=0.279, train_accuracy=0.772, test_accuracy=0.773\n",
      "Epoch: 28, loss=0.547, train_accuracy=0.774, test_accuracy=0.760\n",
      "Epoch: 29, loss=0.326, train_accuracy=0.779, test_accuracy=0.792\n",
      "Epoch: 30, loss=0.394, train_accuracy=0.774, test_accuracy=0.779\n",
      "Epoch: 31, loss=0.567, train_accuracy=0.783, test_accuracy=0.773\n",
      "Epoch: 32, loss=0.447, train_accuracy=0.777, test_accuracy=0.760\n",
      "Epoch: 33, loss=0.839, train_accuracy=0.783, test_accuracy=0.799\n",
      "Epoch: 34, loss=0.280, train_accuracy=0.774, test_accuracy=0.799\n",
      "Epoch: 35, loss=0.482, train_accuracy=0.779, test_accuracy=0.773\n",
      "Epoch: 36, loss=0.339, train_accuracy=0.770, test_accuracy=0.799\n",
      "Epoch: 37, loss=0.661, train_accuracy=0.772, test_accuracy=0.766\n",
      "Epoch: 38, loss=0.566, train_accuracy=0.782, test_accuracy=0.773\n",
      "Epoch: 39, loss=0.326, train_accuracy=0.779, test_accuracy=0.799\n"
     ]
    }
   ],
   "source": [
    "dataset = load_diabetes_dataset()\n",
    "mm = PytorchModelManager(dataset)\n",
    "dm = mm.get_dir_manager()\n",
    "try:\n",
    "    mm.load_model()\n",
    "except FileNotFoundError:\n",
    "    mm.train()\n",
    "    mm.save_model()\n",
    "engine = CFEnginePytorch(mm, dataset)"
   ]
  },
  {
   "cell_type": "code",
   "execution_count": null,
   "metadata": {},
   "outputs": [],
   "source": []
  }
 ],
 "metadata": {
  "kernelspec": {
   "display_name": "cf-env",
   "language": "python",
   "name": "cf-env"
  },
  "language_info": {
   "codemirror_mode": {
    "name": "ipython",
    "version": 3
   },
   "file_extension": ".py",
   "mimetype": "text/x-python",
   "name": "python",
   "nbconvert_exporter": "python",
   "pygments_lexer": "ipython3",
   "version": "3.7.1"
  }
 },
 "nbformat": 4,
 "nbformat_minor": 2
}
