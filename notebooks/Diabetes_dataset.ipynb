{
 "cells": [
  {
   "cell_type": "code",
   "execution_count": 1,
   "metadata": {},
   "outputs": [],
   "source": [
    "from load_dataset import load_diabetes_dataset\n",
    "from model_manager import PytorchModelManager\n",
    "from cf_engine.engine import CFEnginePytorch\n",
    "from cf_engine.counterfactual import CounterfactualExampleBySubset"
   ]
  },
  {
   "cell_type": "code",
   "execution_count": 2,
   "metadata": {},
   "outputs": [],
   "source": [
    "import numpy as mp\n",
    "import matplotlib.pyplot as plt\n",
    "import pandas as pd\n",
    "from pandas.plotting import scatter_matrix"
   ]
  },
  {
   "cell_type": "code",
   "execution_count": 3,
   "metadata": {
    "scrolled": true
   },
   "outputs": [
    {
     "name": "stderr",
     "output_type": "stream",
     "text": [
      "/Users/chengfurui/Projects/counterfactuals/cf_ml/dataset.py:82: SettingWithCopyWarning: \n",
      "A value is trying to be set on a copy of a slice from a DataFrame.\n",
      "Try using .loc[row_indexer,col_indexer] = value instead\n",
      "\n",
      "See the caveats in the documentation: https://pandas.pydata.org/pandas-docs/stable/user_guide/indexing.html#returning-a-view-versus-a-copy\n",
      "  data_df[col] = (data_df[col] - minx)/(maxx-minx)\n"
     ]
    }
   ],
   "source": [
    "dataset = load_diabetes_dataset()\n",
    "mm = PytorchModelManager(dataset)\n",
    "dm = mm.get_dir_manager()\n",
    "try:\n",
    "    mm.load_model()\n",
    "except FileNotFoundError:\n",
    "    mm.train()\n",
    "    mm.save_model()\n",
    "engine = CFEnginePytorch(mm, dataset)"
   ]
  },
  {
   "cell_type": "code",
   "execution_count": 4,
   "metadata": {},
   "outputs": [],
   "source": [
    "x = dataset.get_train_dataset(preprocess=False)[dataset.get_feature_names()].values"
   ]
  },
  {
   "cell_type": "code",
   "execution_count": 5,
   "metadata": {
    "scrolled": true
   },
   "outputs": [
    {
     "name": "stderr",
     "output_type": "stream",
     "text": [
      "/Users/chengfurui/Projects/counterfactuals/env/lib/python3.7/site-packages/torch/nn/functional.py:1351: UserWarning: nn.functional.sigmoid is deprecated. Use torch.sigmoid instead.\n",
      "  warnings.warn(\"nn.functional.sigmoid is deprecated. Use torch.sigmoid instead.\")\n",
      "/Users/chengfurui/Projects/counterfactuals/cf_ml/dataset.py:132: SettingWithCopyWarning: \n",
      "A value is trying to be set on a copy of a slice from a DataFrame.\n",
      "Try using .loc[row_indexer,col_indexer] = value instead\n",
      "\n",
      "See the caveats in the documentation: https://pandas.pydata.org/pandas-docs/stable/user_guide/indexing.html#returning-a-view-versus-a-copy\n",
      "  data_df[target_col] = self.description[target_col]['category'][0]\n",
      "/Users/chengfurui/Projects/counterfactuals/env/lib/python3.7/site-packages/pandas/core/indexing.py:844: SettingWithCopyWarning: \n",
      "A value is trying to be set on a copy of a slice from a DataFrame.\n",
      "Try using .loc[row_indexer,col_indexer] = value instead\n",
      "\n",
      "See the caveats in the documentation: https://pandas.pydata.org/pandas-docs/stable/user_guide/indexing.html#returning-a-view-versus-a-copy\n",
      "  self.obj[key] = _infer_fill_value(value)\n",
      "/Users/chengfurui/Projects/counterfactuals/env/lib/python3.7/site-packages/pandas/core/indexing.py:965: SettingWithCopyWarning: \n",
      "A value is trying to be set on a copy of a slice from a DataFrame.\n",
      "Try using .loc[row_indexer,col_indexer] = value instead\n",
      "\n",
      "See the caveats in the documentation: https://pandas.pydata.org/pandas-docs/stable/user_guide/indexing.html#returning-a-view-versus-a-copy\n",
      "  self.obj[item] = s\n"
     ]
    },
    {
     "name": "stdout",
     "output_type": "stream",
     "text": [
      "[2/116]  Epoch-0, time cost: 1.336s, loss: 4.470, iteration: 2000, validation rate: 1.000\n",
      "[4/116]  Epoch-1, time cost: 0.938s, loss: 2.647, iteration: 1413, validation rate: 1.000\n",
      "[6/116]  Epoch-2, time cost: 1.339s, loss: 3.956, iteration: 2000, validation rate: 1.000\n",
      "[8/116]  Epoch-3, time cost: 1.323s, loss: 4.159, iteration: 2000, validation rate: 1.000\n",
      "[10/116]  Epoch-4, time cost: 0.687s, loss: 4.496, iteration: 1024, validation rate: 1.000\n",
      "[12/116]  Epoch-5, time cost: 1.206s, loss: 3.814, iteration: 2000, validation rate: 1.000\n",
      "[14/116]  Epoch-6, time cost: 1.209s, loss: 3.776, iteration: 2000, validation rate: 1.000\n",
      "[16/116]  Epoch-7, time cost: 1.225s, loss: 3.801, iteration: 2000, validation rate: 1.000\n",
      "[18/116]  Epoch-8, time cost: 0.852s, loss: 1.631, iteration: 1321, validation rate: 1.000\n",
      "[20/116]  Epoch-9, time cost: 1.061s, loss: 4.197, iteration: 1657, validation rate: 1.000\n",
      "[22/116]  Epoch-10, time cost: 0.996s, loss: 2.928, iteration: 1630, validation rate: 1.000\n",
      "[24/116]  Epoch-11, time cost: 1.222s, loss: 4.961, iteration: 2000, validation rate: 1.000\n",
      "[26/116]  Epoch-12, time cost: 0.800s, loss: 4.374, iteration: 1086, validation rate: 1.000\n",
      "[28/116]  Epoch-13, time cost: 1.226s, loss: 5.110, iteration: 2000, validation rate: 1.000\n",
      "[30/116]  Epoch-14, time cost: 1.210s, loss: 4.092, iteration: 2000, validation rate: 1.000\n",
      "[32/116]  Epoch-15, time cost: 1.210s, loss: 3.911, iteration: 2000, validation rate: 1.000\n",
      "[34/116]  Epoch-16, time cost: 0.937s, loss: 3.531, iteration: 1529, validation rate: 1.000\n",
      "[36/116]  Epoch-17, time cost: 1.308s, loss: 4.093, iteration: 2000, validation rate: 1.000\n",
      "[38/116]  Epoch-18, time cost: 0.790s, loss: 2.048, iteration: 1242, validation rate: 1.000\n",
      "[40/116]  Epoch-19, time cost: 1.296s, loss: 4.520, iteration: 2000, validation rate: 1.000\n",
      "[42/116]  Epoch-20, time cost: 0.918s, loss: 3.110, iteration: 1333, validation rate: 1.000\n",
      "[44/116]  Epoch-21, time cost: 0.938s, loss: 4.050, iteration: 1408, validation rate: 1.000\n",
      "[46/116]  Epoch-22, time cost: 1.547s, loss: 4.893, iteration: 2000, validation rate: 1.000\n",
      "[48/116]  Epoch-23, time cost: 2.088s, loss: 3.655, iteration: 2000, validation rate: 1.000\n",
      "[50/116]  Epoch-24, time cost: 2.120s, loss: 4.891, iteration: 2000, validation rate: 1.000\n",
      "[52/116]  Epoch-25, time cost: 1.790s, loss: 5.409, iteration: 2000, validation rate: 1.000\n",
      "[54/116]  Epoch-26, time cost: 0.909s, loss: 3.687, iteration: 1331, validation rate: 1.000\n",
      "[56/116]  Epoch-27, time cost: 1.270s, loss: 5.376, iteration: 2000, validation rate: 1.000\n",
      "[58/116]  Epoch-28, time cost: 2.152s, loss: 3.793, iteration: 2000, validation rate: 1.000\n",
      "[60/116]  Epoch-29, time cost: 0.933s, loss: 3.608, iteration: 961, validation rate: 1.000\n",
      "[62/116]  Epoch-30, time cost: 2.088s, loss: 3.211, iteration: 2000, validation rate: 1.000\n",
      "[64/116]  Epoch-31, time cost: 3.008s, loss: 4.268, iteration: 2000, validation rate: 1.000\n",
      "[66/116]  Epoch-32, time cost: 2.305s, loss: 3.216, iteration: 2000, validation rate: 1.000\n",
      "[68/116]  Epoch-33, time cost: 1.628s, loss: 1.912, iteration: 959, validation rate: 1.000\n",
      "[70/116]  Epoch-34, time cost: 2.054s, loss: 3.489, iteration: 1714, validation rate: 1.000\n",
      "[72/116]  Epoch-35, time cost: 1.813s, loss: 3.182, iteration: 2000, validation rate: 1.000\n",
      "[74/116]  Epoch-36, time cost: 0.708s, loss: 3.370, iteration: 708, validation rate: 1.000\n",
      "[76/116]  Epoch-37, time cost: 0.846s, loss: 5.837, iteration: 1013, validation rate: 1.000\n",
      "[78/116]  Epoch-38, time cost: 1.451s, loss: 2.216, iteration: 1826, validation rate: 1.000\n",
      "[80/116]  Epoch-39, time cost: 1.052s, loss: 5.769, iteration: 1533, validation rate: 1.000\n",
      "[82/116]  Epoch-40, time cost: 1.281s, loss: 4.012, iteration: 2000, validation rate: 1.000\n",
      "[84/116]  Epoch-41, time cost: 1.263s, loss: 5.437, iteration: 2000, validation rate: 1.000\n",
      "[86/116]  Epoch-42, time cost: 1.269s, loss: 5.134, iteration: 2000, validation rate: 1.000\n",
      "[88/116]  Epoch-43, time cost: 1.253s, loss: 6.848, iteration: 2000, validation rate: 1.000\n",
      "[90/116]  Epoch-44, time cost: 1.243s, loss: 4.115, iteration: 2000, validation rate: 1.000\n",
      "[92/116]  Epoch-45, time cost: 1.138s, loss: 3.169, iteration: 1742, validation rate: 1.000\n",
      "[94/116]  Epoch-46, time cost: 1.232s, loss: 2.998, iteration: 1626, validation rate: 1.000\n",
      "[96/116]  Epoch-47, time cost: 1.449s, loss: 4.706, iteration: 2000, validation rate: 1.000\n",
      "[98/116]  Epoch-48, time cost: 1.277s, loss: 4.176, iteration: 2000, validation rate: 1.000\n",
      "[100/116]  Epoch-49, time cost: 1.235s, loss: 5.096, iteration: 2000, validation rate: 1.000\n",
      "[102/116]  Epoch-50, time cost: 0.782s, loss: 4.641, iteration: 1199, validation rate: 1.000\n",
      "[104/116]  Epoch-51, time cost: 1.309s, loss: 5.107, iteration: 2000, validation rate: 1.000\n",
      "[106/116]  Epoch-52, time cost: 1.272s, loss: 3.502, iteration: 2000, validation rate: 1.000\n",
      "[108/116]  Epoch-53, time cost: 1.102s, loss: 3.090, iteration: 1694, validation rate: 1.000\n",
      "[110/116]  Epoch-54, time cost: 1.215s, loss: 2.647, iteration: 2000, validation rate: 1.000\n",
      "[112/116]  Epoch-55, time cost: 0.622s, loss: 3.888, iteration: 923, validation rate: 1.000\n",
      "[114/116]  Epoch-56, time cost: 1.294s, loss: 4.123, iteration: 2000, validation rate: 1.000\n",
      "[116/116]  Epoch-57, time cost: 0.994s, loss: 3.490, iteration: 1588, validation rate: 1.000\n",
      "Total time cost: 75.077, validation rate: 1.000, average distance: 0.400, average loss: 3.994\n"
     ]
    }
   ],
   "source": [
    "filters = [('Glucose', 0, 94, True)]\n",
    "# filters = []\n",
    "attr_range = {'Glucose': {'min': 80, 'max': 200}}\n",
    "setting = {'index': 'train', 'changeable_attribute': 'all', 'attr_range': attr_range,\n",
    "           'filters': filters, 'cf_num': 1, 'desired_class': 'opposite', 'weight': 'mads', 'k': -1}\n",
    "subset_cf = engine.generate_cfs_from_setting(setting, use_cache=False, batch_size=2,\\\n",
    "                                             proximity_weight=0.01, diversity_weight=0,\\\n",
    "                                             loss_diff=1e-6, post_step=10, cache=False)"
   ]
  },
  {
   "cell_type": "code",
   "execution_count": 6,
   "metadata": {},
   "outputs": [],
   "source": [
    "feature = dataset.get_feature_names(False)\n",
    "des = dataset.get_description()\n",
    "cfs = subset_cf.get_cf()\n",
    "instances = subset_cf.get_instance()\n",
    "neg_instances = instances[instances['Outcome'] == 0]\n",
    "valid_pos_cf = cfs[cfs['OriginIndex'].isin(neg_instances.index) & (cfs['Outcome'] == 1)]\n",
    "# difference between cfs and original instances\n",
    "diff = valid_pos_cf.reset_index(drop=True)[feature] - \\\n",
    "    neg_instances.reset_index(drop=True)[feature]\n",
    "diff.index = valid_pos_cf['OriginIndex']\n",
    "normed_diff = diff.copy()\n",
    "for f in feature:\n",
    "    normed_diff[f] = diff[f] / (des[f]['max'] - des[f]['min'])"
   ]
  },
  {
   "cell_type": "code",
   "execution_count": 15,
   "metadata": {},
   "outputs": [
    {
     "data": {
      "text/plain": [
       "<matplotlib.axes._subplots.AxesSubplot at 0x13b334438>"
      ]
     },
     "execution_count": 15,
     "metadata": {},
     "output_type": "execute_result"
    },
    {
     "data": {
      "image/png": "[encoded data removed]",
      "text/plain": [
       "<Figure size 432x288 with 1 Axes>"
      ]
     },
     "metadata": {
      "needs_background": "light"
     },
     "output_type": "display_data"
    }
   ],
   "source": [
    "diff['Glucose'].histst()"
   ]
  },
  {
   "cell_type": "code",
   "execution_count": 9,
   "metadata": {},
   "outputs": [
    {
     "data": {
      "text/html": [
       "<div>\n",
       "<style scoped>\n",
       "    .dataframe tbody tr th:only-of-type {\n",
       "        vertical-align: middle;\n",
       "    }\n",
       "\n",
       "    .dataframe tbody tr th {\n",
       "        vertical-align: top;\n",
       "    }\n",
       "\n",
       "    .dataframe thead th {\n",
       "        text-align: right;\n",
       "    }\n",
       "</style>\n",
       "<table border=\"1\" class=\"dataframe\">\n",
       "  <thead>\n",
       "    <tr style=\"text-align: right;\">\n",
       "      <th></th>\n",
       "      <th>Pregnancies</th>\n",
       "      <th>Glucose</th>\n",
       "      <th>BloodPressure</th>\n",
       "      <th>SkinThickness</th>\n",
       "      <th>Insulin</th>\n",
       "      <th>BMI</th>\n",
       "      <th>DiabetesPedigreeFunction</th>\n",
       "      <th>Age</th>\n",
       "      <th>Outcome</th>\n",
       "      <th>Outcome_pred</th>\n",
       "      <th>Score</th>\n",
       "      <th>OriginIndex</th>\n",
       "    </tr>\n",
       "  </thead>\n",
       "  <tbody>\n",
       "  </tbody>\n",
       "</table>\n",
       "</div>"
      ],
      "text/plain": [
       "Empty DataFrame\n",
       "Columns: [Pregnancies, Glucose, BloodPressure, SkinThickness, Insulin, BMI, DiabetesPedigreeFunction, Age, Outcome, Outcome_pred, Score, OriginIndex]\n",
       "Index: []"
      ]
     },
     "execution_count": 9,
     "metadata": {},
     "output_type": "execute_result"
    }
   ],
   "source": [
    "valid_pos_cf[valid_pos_cf['Glucose'] < 93]"
   ]
  },
  {
   "cell_type": "code",
   "execution_count": 10,
   "metadata": {
    "scrolled": true
   },
   "outputs": [
    {
     "name": "stderr",
     "output_type": "stream",
     "text": [
      "/Users/chengfurui/Projects/counterfactuals/cf_ml/dataset.py:82: SettingWithCopyWarning: \n",
      "A value is trying to be set on a copy of a slice from a DataFrame.\n",
      "Try using .loc[row_indexer,col_indexer] = value instead\n",
      "\n",
      "See the caveats in the documentation: https://pandas.pydata.org/pandas-docs/stable/user_guide/indexing.html#returning-a-view-versus-a-copy\n",
      "  data_df[col] = (data_df[col] - minx)/(maxx-minx)\n",
      "/Users/chengfurui/Projects/counterfactuals/env/lib/python3.7/site-packages/torch/nn/functional.py:1351: UserWarning: nn.functional.sigmoid is deprecated. Use torch.sigmoid instead.\n",
      "  warnings.warn(\"nn.functional.sigmoid is deprecated. Use torch.sigmoid instead.\")\n",
      "/Users/chengfurui/Projects/counterfactuals/cf_ml/dataset.py:132: SettingWithCopyWarning: \n",
      "A value is trying to be set on a copy of a slice from a DataFrame.\n",
      "Try using .loc[row_indexer,col_indexer] = value instead\n",
      "\n",
      "See the caveats in the documentation: https://pandas.pydata.org/pandas-docs/stable/user_guide/indexing.html#returning-a-view-versus-a-copy\n",
      "  data_df[target_col] = self.description[target_col]['category'][0]\n",
      "/Users/chengfurui/Projects/counterfactuals/env/lib/python3.7/site-packages/pandas/core/indexing.py:844: SettingWithCopyWarning: \n",
      "A value is trying to be set on a copy of a slice from a DataFrame.\n",
      "Try using .loc[row_indexer,col_indexer] = value instead\n",
      "\n",
      "See the caveats in the documentation: https://pandas.pydata.org/pandas-docs/stable/user_guide/indexing.html#returning-a-view-versus-a-copy\n",
      "  self.obj[key] = _infer_fill_value(value)\n",
      "/Users/chengfurui/Projects/counterfactuals/env/lib/python3.7/site-packages/pandas/core/indexing.py:965: SettingWithCopyWarning: \n",
      "A value is trying to be set on a copy of a slice from a DataFrame.\n",
      "Try using .loc[row_indexer,col_indexer] = value instead\n",
      "\n",
      "See the caveats in the documentation: https://pandas.pydata.org/pandas-docs/stable/user_guide/indexing.html#returning-a-view-versus-a-copy\n",
      "  self.obj[item] = s\n"
     ]
    },
    {
     "name": "stdout",
     "output_type": "stream",
     "text": [
      "[2/131]  Epoch-0, time cost: 0.414s, loss: 1.307, iteration: 526, validation rate: 1.000\n",
      "[4/131]  Epoch-1, time cost: 0.524s, loss: 2.164, iteration: 802, validation rate: 1.000\n",
      "[6/131]  Epoch-2, time cost: 0.437s, loss: 0.646, iteration: 616, validation rate: 1.000\n",
      "[8/131]  Epoch-3, time cost: 0.375s, loss: 1.493, iteration: 544, validation rate: 1.000\n",
      "[10/131]  Epoch-4, time cost: 0.495s, loss: 1.870, iteration: 753, validation rate: 1.000\n",
      "[12/131]  Epoch-5, time cost: 0.690s, loss: 1.418, iteration: 1135, validation rate: 1.000\n",
      "[14/131]  Epoch-6, time cost: 0.430s, loss: 1.160, iteration: 598, validation rate: 1.000\n",
      "[16/131]  Epoch-7, time cost: 0.587s, loss: 0.424, iteration: 948, validation rate: 1.000\n",
      "[18/131]  Epoch-8, time cost: 0.618s, loss: 0.577, iteration: 980, validation rate: 1.000\n",
      "[20/131]  Epoch-9, time cost: 0.325s, loss: 2.442, iteration: 469, validation rate: 1.000\n",
      "[22/131]  Epoch-10, time cost: 0.585s, loss: 1.832, iteration: 925, validation rate: 1.000\n",
      "[24/131]  Epoch-11, time cost: 0.701s, loss: 1.460, iteration: 1149, validation rate: 1.000\n",
      "[26/131]  Epoch-12, time cost: 0.412s, loss: 2.589, iteration: 616, validation rate: 1.000\n",
      "[28/131]  Epoch-13, time cost: 0.488s, loss: 1.491, iteration: 733, validation rate: 1.000\n",
      "[30/131]  Epoch-14, time cost: 0.557s, loss: 2.454, iteration: 853, validation rate: 1.000\n",
      "[32/131]  Epoch-15, time cost: 1.072s, loss: 0.482, iteration: 1835, validation rate: 1.000\n",
      "[34/131]  Epoch-16, time cost: 0.443s, loss: 1.138, iteration: 649, validation rate: 1.000\n",
      "[36/131]  Epoch-17, time cost: 0.597s, loss: 4.723, iteration: 958, validation rate: 1.000\n",
      "[38/131]  Epoch-18, time cost: 0.392s, loss: 1.841, iteration: 560, validation rate: 1.000\n",
      "[40/131]  Epoch-19, time cost: 0.575s, loss: 1.396, iteration: 913, validation rate: 1.000\n",
      "[42/131]  Epoch-20, time cost: 0.438s, loss: 1.558, iteration: 621, validation rate: 1.000\n",
      "[44/131]  Epoch-21, time cost: 0.450s, loss: 0.923, iteration: 698, validation rate: 1.000\n",
      "[46/131]  Epoch-22, time cost: 0.647s, loss: 2.477, iteration: 1024, validation rate: 1.000\n",
      "[48/131]  Epoch-23, time cost: 0.435s, loss: 0.632, iteration: 672, validation rate: 1.000\n",
      "[50/131]  Epoch-24, time cost: 1.073s, loss: 1.401, iteration: 1839, validation rate: 1.000\n",
      "[52/131]  Epoch-25, time cost: 0.356s, loss: 1.031, iteration: 523, validation rate: 1.000\n",
      "[54/131]  Epoch-26, time cost: 0.607s, loss: 1.976, iteration: 986, validation rate: 1.000\n",
      "[56/131]  Epoch-27, time cost: 0.541s, loss: 1.519, iteration: 825, validation rate: 1.000\n",
      "[58/131]  Epoch-28, time cost: 0.306s, loss: 1.186, iteration: 429, validation rate: 0.500\n",
      "[60/131]  Epoch-29, time cost: 0.675s, loss: 1.233, iteration: 1097, validation rate: 1.000\n",
      "[62/131]  Epoch-30, time cost: 0.706s, loss: 1.734, iteration: 1171, validation rate: 1.000\n",
      "[64/131]  Epoch-31, time cost: 0.639s, loss: 1.924, iteration: 1027, validation rate: 1.000\n",
      "[66/131]  Epoch-32, time cost: 0.474s, loss: 1.353, iteration: 753, validation rate: 1.000\n",
      "[68/131]  Epoch-33, time cost: 0.385s, loss: 0.415, iteration: 547, validation rate: 1.000\n",
      "[70/131]  Epoch-34, time cost: 0.390s, loss: 0.813, iteration: 588, validation rate: 0.500\n",
      "[72/131]  Epoch-35, time cost: 0.928s, loss: 3.263, iteration: 1570, validation rate: 1.000\n",
      "[74/131]  Epoch-36, time cost: 0.486s, loss: 1.337, iteration: 762, validation rate: 1.000\n",
      "[76/131]  Epoch-37, time cost: 0.330s, loss: 1.459, iteration: 481, validation rate: 1.000\n",
      "[78/131]  Epoch-38, time cost: 0.827s, loss: 1.321, iteration: 1381, validation rate: 1.000\n",
      "[80/131]  Epoch-39, time cost: 0.349s, loss: 1.323, iteration: 523, validation rate: 1.000\n",
      "[82/131]  Epoch-40, time cost: 0.517s, loss: 1.300, iteration: 797, validation rate: 1.000\n",
      "[84/131]  Epoch-41, time cost: 0.333s, loss: 1.012, iteration: 480, validation rate: 1.000\n",
      "[86/131]  Epoch-42, time cost: 0.496s, loss: 0.600, iteration: 800, validation rate: 1.000\n",
      "[88/131]  Epoch-43, time cost: 1.166s, loss: 2.784, iteration: 2000, validation rate: 1.000\n",
      "[90/131]  Epoch-44, time cost: 0.784s, loss: 1.476, iteration: 1323, validation rate: 1.000\n",
      "[92/131]  Epoch-45, time cost: 0.399s, loss: 0.558, iteration: 578, validation rate: 1.000\n",
      "[94/131]  Epoch-46, time cost: 0.384s, loss: 0.780, iteration: 584, validation rate: 1.000\n",
      "[96/131]  Epoch-47, time cost: 0.529s, loss: 1.929, iteration: 830, validation rate: 1.000\n",
      "[98/131]  Epoch-48, time cost: 0.458s, loss: 0.367, iteration: 704, validation rate: 1.000\n",
      "[100/131]  Epoch-49, time cost: 0.472s, loss: 1.611, iteration: 722, validation rate: 1.000\n",
      "[102/131]  Epoch-50, time cost: 0.528s, loss: 1.636, iteration: 848, validation rate: 1.000\n",
      "[104/131]  Epoch-51, time cost: 0.509s, loss: 1.929, iteration: 694, validation rate: 1.000\n",
      "[106/131]  Epoch-52, time cost: 0.686s, loss: 1.947, iteration: 1021, validation rate: 1.000\n",
      "[108/131]  Epoch-53, time cost: 0.615s, loss: 2.398, iteration: 865, validation rate: 1.000\n",
      "[110/131]  Epoch-54, time cost: 0.684s, loss: 1.325, iteration: 1010, validation rate: 1.000\n",
      "[112/131]  Epoch-55, time cost: 0.497s, loss: 0.969, iteration: 686, validation rate: 1.000\n",
      "[114/131]  Epoch-56, time cost: 0.898s, loss: 1.525, iteration: 1303, validation rate: 1.000\n",
      "[116/131]  Epoch-57, time cost: 0.777s, loss: 0.762, iteration: 1153, validation rate: 1.000\n",
      "[118/131]  Epoch-58, time cost: 0.745s, loss: 2.193, iteration: 1164, validation rate: 1.000\n",
      "[120/131]  Epoch-59, time cost: 0.437s, loss: 1.292, iteration: 637, validation rate: 1.000\n",
      "[122/131]  Epoch-60, time cost: 0.465s, loss: 0.678, iteration: 688, validation rate: 1.000\n",
      "[124/131]  Epoch-61, time cost: 0.554s, loss: 0.717, iteration: 909, validation rate: 1.000\n",
      "[126/131]  Epoch-62, time cost: 0.358s, loss: 0.717, iteration: 534, validation rate: 1.000\n",
      "[128/131]  Epoch-63, time cost: 0.368s, loss: 1.245, iteration: 545, validation rate: 1.000\n",
      "[130/131]  Epoch-64, time cost: 0.731s, loss: 3.921, iteration: 1236, validation rate: 1.000\n",
      "[131/131]  Epoch-65, time cost: 0.856s, loss: 4.661, iteration: 1486, validation rate: 1.000\n",
      "Total time cost: 37.055, validation rate: 0.985, average distance: 0.152, average loss: 1.523\n"
     ]
    }
   ],
   "source": [
    "filters = [('Glucose', 94, 200, True), ('Age', 42, 200, True)]\n",
    "# filters = []\n",
    "attr_range = {'Glucose': {'min': 80, 'max': 150}}\n",
    "setting = {'index': 'train', 'changeable_attribute': 'all', 'attr_range': attr_range,\n",
    "           'filters': filters, 'cf_num': 1, 'desired_class': 'opposite', 'weight': 'mads'}\n",
    "subset_cf = engine.generate_cfs_from_setting(setting, use_cache=False, batch_size=2,\\\n",
    "                                             proximity_weight=0.01, diversity_weight=0,\\\n",
    "                                             loss_diff=1e-6, cache=False)"
   ]
  },
  {
   "cell_type": "code",
   "execution_count": 11,
   "metadata": {},
   "outputs": [],
   "source": [
    "cfs = subset_cf.get_cf()\n",
    "instances = subset_cf.get_instance()\n",
    "pos_instances = instances[instances['Outcome'] == 1]\n",
    "valid_neg_cf = cfs[cfs['OriginIndex'].isin(neg_instances.index) & (cfs['Outcome'] == 0)]"
   ]
  },
  {
   "cell_type": "code",
   "execution_count": 12,
   "metadata": {},
   "outputs": [
    {
     "data": {
      "text/plain": [
       "array([[<matplotlib.axes._subplots.AxesSubplot object at 0x13785cb38>,\n",
       "        <matplotlib.axes._subplots.AxesSubplot object at 0x139970400>]],\n",
       "      dtype=object)"
      ]
     },
     "execution_count": 12,
     "metadata": {},
     "output_type": "execute_result"
    },
    {
     "data": {
      "image/png": "[encoded data removed]",
      "text/plain": [
       "<Figure size 432x288 with 2 Axes>"
      ]
     },
     "metadata": {
      "needs_background": "light"
     },
     "output_type": "display_data"
    }
   ],
   "source": [
    "valid_pos_cf[['Glucose', 'Age']].hist()"
   ]
  },
  {
   "cell_type": "code",
   "execution_count": 13,
   "metadata": {},
   "outputs": [
    {
     "data": {
      "text/plain": [
       "99.0"
      ]
     },
     "execution_count": 13,
     "metadata": {},
     "output_type": "execute_result"
    }
   ],
   "source": [
    "valid_pos_cf['Glucose'].min()"
   ]
  },
  {
   "cell_type": "code",
   "execution_count": 14,
   "metadata": {},
   "outputs": [
    {
     "data": {
      "text/html": [
       "<div>\n",
       "<style scoped>\n",
       "    .dataframe tbody tr th:only-of-type {\n",
       "        vertical-align: middle;\n",
       "    }\n",
       "\n",
       "    .dataframe tbody tr th {\n",
       "        vertical-align: top;\n",
       "    }\n",
       "\n",
       "    .dataframe thead th {\n",
       "        text-align: right;\n",
       "    }\n",
       "</style>\n",
       "<table border=\"1\" class=\"dataframe\">\n",
       "  <thead>\n",
       "    <tr style=\"text-align: right;\">\n",
       "      <th></th>\n",
       "      <th>Pregnancies</th>\n",
       "      <th>Glucose</th>\n",
       "      <th>BloodPressure</th>\n",
       "      <th>SkinThickness</th>\n",
       "      <th>Insulin</th>\n",
       "      <th>BMI</th>\n",
       "      <th>DiabetesPedigreeFunction</th>\n",
       "      <th>Age</th>\n",
       "      <th>Outcome</th>\n",
       "      <th>Outcome_pred</th>\n",
       "      <th>Score</th>\n",
       "      <th>OriginIndex</th>\n",
       "    </tr>\n",
       "  </thead>\n",
       "  <tbody>\n",
       "    <tr>\n",
       "      <th>0</th>\n",
       "      <td>12.0</td>\n",
       "      <td>113.0</td>\n",
       "      <td>74.0</td>\n",
       "      <td>40.0</td>\n",
       "      <td>54.0</td>\n",
       "      <td>35.299999</td>\n",
       "      <td>0.380</td>\n",
       "      <td>48.0</td>\n",
       "      <td>1</td>\n",
       "      <td>1</td>\n",
       "      <td>0.508691</td>\n",
       "      <td>358</td>\n",
       "    </tr>\n",
       "    <tr>\n",
       "      <th>1</th>\n",
       "      <td>6.0</td>\n",
       "      <td>137.0</td>\n",
       "      <td>62.0</td>\n",
       "      <td>32.0</td>\n",
       "      <td>126.0</td>\n",
       "      <td>32.000000</td>\n",
       "      <td>0.085</td>\n",
       "      <td>46.0</td>\n",
       "      <td>1</td>\n",
       "      <td>1</td>\n",
       "      <td>0.509827</td>\n",
       "      <td>567</td>\n",
       "    </tr>\n",
       "    <tr>\n",
       "      <th>1</th>\n",
       "      <td>0.0</td>\n",
       "      <td>104.0</td>\n",
       "      <td>76.0</td>\n",
       "      <td>0.0</td>\n",
       "      <td>0.0</td>\n",
       "      <td>48.200001</td>\n",
       "      <td>0.194</td>\n",
       "      <td>46.0</td>\n",
       "      <td>1</td>\n",
       "      <td>1</td>\n",
       "      <td>0.518214</td>\n",
       "      <td>596</td>\n",
       "    </tr>\n",
       "    <tr>\n",
       "      <th>0</th>\n",
       "      <td>8.0</td>\n",
       "      <td>140.0</td>\n",
       "      <td>82.0</td>\n",
       "      <td>0.0</td>\n",
       "      <td>0.0</td>\n",
       "      <td>35.599998</td>\n",
       "      <td>0.587</td>\n",
       "      <td>68.0</td>\n",
       "      <td>1</td>\n",
       "      <td>1</td>\n",
       "      <td>0.507562</td>\n",
       "      <td>674</td>\n",
       "    </tr>\n",
       "    <tr>\n",
       "      <th>0</th>\n",
       "      <td>10.0</td>\n",
       "      <td>105.0</td>\n",
       "      <td>85.0</td>\n",
       "      <td>32.0</td>\n",
       "      <td>0.0</td>\n",
       "      <td>36.200001</td>\n",
       "      <td>0.825</td>\n",
       "      <td>56.0</td>\n",
       "      <td>1</td>\n",
       "      <td>1</td>\n",
       "      <td>0.500301</td>\n",
       "      <td>542</td>\n",
       "    </tr>\n",
       "    <tr>\n",
       "      <th>0</th>\n",
       "      <td>12.0</td>\n",
       "      <td>118.0</td>\n",
       "      <td>62.0</td>\n",
       "      <td>7.0</td>\n",
       "      <td>258.0</td>\n",
       "      <td>27.600000</td>\n",
       "      <td>0.926</td>\n",
       "      <td>44.0</td>\n",
       "      <td>1</td>\n",
       "      <td>1</td>\n",
       "      <td>0.513035</td>\n",
       "      <td>254</td>\n",
       "    </tr>\n",
       "    <tr>\n",
       "      <th>0</th>\n",
       "      <td>9.0</td>\n",
       "      <td>155.0</td>\n",
       "      <td>68.0</td>\n",
       "      <td>0.0</td>\n",
       "      <td>0.0</td>\n",
       "      <td>26.700001</td>\n",
       "      <td>0.210</td>\n",
       "      <td>58.0</td>\n",
       "      <td>1</td>\n",
       "      <td>1</td>\n",
       "      <td>0.523839</td>\n",
       "      <td>512</td>\n",
       "    </tr>\n",
       "    <tr>\n",
       "      <th>0</th>\n",
       "      <td>12.0</td>\n",
       "      <td>128.0</td>\n",
       "      <td>72.0</td>\n",
       "      <td>31.0</td>\n",
       "      <td>0.0</td>\n",
       "      <td>29.700001</td>\n",
       "      <td>0.297</td>\n",
       "      <td>46.0</td>\n",
       "      <td>1</td>\n",
       "      <td>1</td>\n",
       "      <td>0.508547</td>\n",
       "      <td>510</td>\n",
       "    </tr>\n",
       "    <tr>\n",
       "      <th>0</th>\n",
       "      <td>0.0</td>\n",
       "      <td>107.0</td>\n",
       "      <td>60.0</td>\n",
       "      <td>0.0</td>\n",
       "      <td>0.0</td>\n",
       "      <td>36.299999</td>\n",
       "      <td>0.735</td>\n",
       "      <td>67.0</td>\n",
       "      <td>1</td>\n",
       "      <td>1</td>\n",
       "      <td>0.502050</td>\n",
       "      <td>537</td>\n",
       "    </tr>\n",
       "  </tbody>\n",
       "</table>\n",
       "</div>"
      ],
      "text/plain": [
       "   Pregnancies  Glucose  BloodPressure  SkinThickness  Insulin        BMI  \\\n",
       "0         12.0    113.0           74.0           40.0     54.0  35.299999   \n",
       "1          6.0    137.0           62.0           32.0    126.0  32.000000   \n",
       "1          0.0    104.0           76.0            0.0      0.0  48.200001   \n",
       "0          8.0    140.0           82.0            0.0      0.0  35.599998   \n",
       "0         10.0    105.0           85.0           32.0      0.0  36.200001   \n",
       "0         12.0    118.0           62.0            7.0    258.0  27.600000   \n",
       "0          9.0    155.0           68.0            0.0      0.0  26.700001   \n",
       "0         12.0    128.0           72.0           31.0      0.0  29.700001   \n",
       "0          0.0    107.0           60.0            0.0      0.0  36.299999   \n",
       "\n",
       "   DiabetesPedigreeFunction   Age Outcome Outcome_pred     Score OriginIndex  \n",
       "0                     0.380  48.0       1            1  0.508691         358  \n",
       "1                     0.085  46.0       1            1  0.509827         567  \n",
       "1                     0.194  46.0       1            1  0.518214         596  \n",
       "0                     0.587  68.0       1            1  0.507562         674  \n",
       "0                     0.825  56.0       1            1  0.500301         542  \n",
       "0                     0.926  44.0       1            1  0.513035         254  \n",
       "0                     0.210  58.0       1            1  0.523839         512  \n",
       "0                     0.297  46.0       1            1  0.508547         510  \n",
       "0                     0.735  67.0       1            1  0.502050         537  "
      ]
     },
     "execution_count": 14,
     "metadata": {},
     "output_type": "execute_result"
    }
   ],
   "source": [
    "valid_pos_cf[valid_pos_cf['Age'] > 42]"
   ]
  },
  {
   "cell_type": "code",
   "execution_count": null,
   "metadata": {},
   "outputs": [],
   "source": []
  }
 ],
 "metadata": {
  "kernelspec": {
   "display_name": "cf-env",
   "language": "python",
   "name": "cf-env"
  },
  "language_info": {
   "codemirror_mode": {
    "name": "ipython",
    "version": 3
   },
   "file_extension": ".py",
   "mimetype": "text/x-python",
   "name": "python",
   "nbconvert_exporter": "python",
   "pygments_lexer": "ipython3",
   "version": "3.7.1"
  }
 },
 "nbformat": 4,
 "nbformat_minor": 2
}
