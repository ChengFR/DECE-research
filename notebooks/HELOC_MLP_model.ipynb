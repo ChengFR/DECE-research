{
 "cells": [
  {
   "cell_type": "code",
   "execution_count": 1,
   "metadata": {},
   "outputs": [
    {
     "name": "stderr",
     "output_type": "stream",
     "text": [
      "/Users/chengfurui/Projects/counterfactuals/env/lib/python3.7/site-packages/tensorflow/python/framework/dtypes.py:526: FutureWarning: Passing (type, 1) or '1type' as a synonym of type is deprecated; in a future version of numpy, it will be understood as (type, (1,)) / '(1,)type'.\n",
      "  _np_qint8 = np.dtype([(\"qint8\", np.int8, 1)])\n",
      "/Users/chengfurui/Projects/counterfactuals/env/lib/python3.7/site-packages/tensorflow/python/framework/dtypes.py:527: FutureWarning: Passing (type, 1) or '1type' as a synonym of type is deprecated; in a future version of numpy, it will be understood as (type, (1,)) / '(1,)type'.\n",
      "  _np_quint8 = np.dtype([(\"quint8\", np.uint8, 1)])\n",
      "/Users/chengfurui/Projects/counterfactuals/env/lib/python3.7/site-packages/tensorflow/python/framework/dtypes.py:528: FutureWarning: Passing (type, 1) or '1type' as a synonym of type is deprecated; in a future version of numpy, it will be understood as (type, (1,)) / '(1,)type'.\n",
      "  _np_qint16 = np.dtype([(\"qint16\", np.int16, 1)])\n",
      "/Users/chengfurui/Projects/counterfactuals/env/lib/python3.7/site-packages/tensorflow/python/framework/dtypes.py:529: FutureWarning: Passing (type, 1) or '1type' as a synonym of type is deprecated; in a future version of numpy, it will be understood as (type, (1,)) / '(1,)type'.\n",
      "  _np_quint16 = np.dtype([(\"quint16\", np.uint16, 1)])\n",
      "/Users/chengfurui/Projects/counterfactuals/env/lib/python3.7/site-packages/tensorflow/python/framework/dtypes.py:530: FutureWarning: Passing (type, 1) or '1type' as a synonym of type is deprecated; in a future version of numpy, it will be understood as (type, (1,)) / '(1,)type'.\n",
      "  _np_qint32 = np.dtype([(\"qint32\", np.int32, 1)])\n",
      "/Users/chengfurui/Projects/counterfactuals/env/lib/python3.7/site-packages/tensorflow/python/framework/dtypes.py:535: FutureWarning: Passing (type, 1) or '1type' as a synonym of type is deprecated; in a future version of numpy, it will be understood as (type, (1,)) / '(1,)type'.\n",
      "  np_resource = np.dtype([(\"resource\", np.ubyte, 1)])\n"
     ]
    }
   ],
   "source": [
    "from load_dataset import load_HELOC_dataset\n",
    "from model import MLPConfig, TensorflowModel"
   ]
  },
  {
   "cell_type": "code",
   "execution_count": 2,
   "metadata": {},
   "outputs": [],
   "source": [
    "model_config = MLPConfig()"
   ]
  },
  {
   "cell_type": "code",
   "execution_count": 3,
   "metadata": {},
   "outputs": [
    {
     "name": "stdout",
     "output_type": "stream",
     "text": [
      "WARNING:tensorflow:From /Users/chengfurui/Projects/counterfactuals/env/lib/python3.7/site-packages/tensorflow/python/ops/resource_variable_ops.py:435: colocate_with (from tensorflow.python.framework.ops) is deprecated and will be removed in a future version.\n",
      "Instructions for updating:\n",
      "Colocations handled automatically by placer.\n",
      "WARNING:tensorflow:From /Users/chengfurui/Projects/counterfactuals/env/lib/python3.7/site-packages/tensorflow/python/keras/layers/core.py:143: calling dropout (from tensorflow.python.ops.nn_ops) with keep_prob is deprecated and will be removed in a future version.\n",
      "Instructions for updating:\n",
      "Please use `rate` instead of `keep_prob`. Rate should be set to `rate = 1 - keep_prob`.\n"
     ]
    }
   ],
   "source": [
    "model = TensorflowModel(config=model_config)"
   ]
  },
  {
   "cell_type": "code",
   "execution_count": 4,
   "metadata": {},
   "outputs": [],
   "source": [
    "dataset = load_HELOC_dataset()"
   ]
  },
  {
   "cell_type": "code",
   "execution_count": 5,
   "metadata": {
    "scrolled": true
   },
   "outputs": [
    {
     "name": "stdout",
     "output_type": "stream",
     "text": [
      "WARNING:tensorflow:From /Users/chengfurui/Projects/counterfactuals/env/lib/python3.7/site-packages/tensorflow/python/ops/math_ops.py:3066: to_int32 (from tensorflow.python.ops.math_ops) is deprecated and will be removed in a future version.\n",
      "Instructions for updating:\n",
      "Use tf.cast instead.\n",
      "Epoch 1/40\n",
      "7896/7896 [==============================] - 1s 90us/sample - loss: 0.6580 - acc: 0.6012\n",
      "Epoch 2/40\n",
      "7896/7896 [==============================] - 0s 62us/sample - loss: 0.6147 - acc: 0.6793\n",
      "Epoch 3/40\n",
      "7896/7896 [==============================] - 1s 64us/sample - loss: 0.5997 - acc: 0.6935\n",
      "Epoch 4/40\n",
      "7896/7896 [==============================] - 1s 63us/sample - loss: 0.5923 - acc: 0.7069\n",
      "Epoch 5/40\n",
      "7896/7896 [==============================] - 1s 64us/sample - loss: 0.5868 - acc: 0.7076\n",
      "Epoch 6/40\n",
      "7896/7896 [==============================] - 1s 64us/sample - loss: 0.5832 - acc: 0.7099\n",
      "Epoch 7/40\n",
      "7896/7896 [==============================] - 0s 62us/sample - loss: 0.5805 - acc: 0.7119\n",
      "Epoch 8/40\n",
      "7896/7896 [==============================] - 0s 62us/sample - loss: 0.5801 - acc: 0.7125\n",
      "Epoch 9/40\n",
      "7896/7896 [==============================] - 0s 63us/sample - loss: 0.5787 - acc: 0.7156\n",
      "Epoch 10/40\n",
      "7896/7896 [==============================] - 1s 64us/sample - loss: 0.5778 - acc: 0.7167\n",
      "Epoch 11/40\n",
      "7896/7896 [==============================] - 0s 63us/sample - loss: 0.5779 - acc: 0.7168\n",
      "Epoch 12/40\n",
      "7896/7896 [==============================] - 0s 62us/sample - loss: 0.5753 - acc: 0.7154\n",
      "Epoch 13/40\n",
      "7896/7896 [==============================] - 0s 63us/sample - loss: 0.5735 - acc: 0.7207\n",
      "Epoch 14/40\n",
      "7896/7896 [==============================] - 1s 65us/sample - loss: 0.5745 - acc: 0.7207\n",
      "Epoch 15/40\n",
      "7896/7896 [==============================] - 1s 64us/sample - loss: 0.5766 - acc: 0.7213\n",
      "Epoch 16/40\n",
      "7896/7896 [==============================] - 1s 65us/sample - loss: 0.5766 - acc: 0.7188\n",
      "Epoch 17/40\n",
      "7896/7896 [==============================] - 0s 63us/sample - loss: 0.5708 - acc: 0.7183\n",
      "Epoch 18/40\n",
      "7896/7896 [==============================] - 0s 63us/sample - loss: 0.5711 - acc: 0.7234\n",
      "Epoch 19/40\n",
      "7896/7896 [==============================] - 1s 67us/sample - loss: 0.5695 - acc: 0.7214\n",
      "Epoch 20/40\n",
      "7896/7896 [==============================] - 1s 68us/sample - loss: 0.5701 - acc: 0.7229\n",
      "Epoch 21/40\n",
      "7896/7896 [==============================] - 1s 66us/sample - loss: 0.5697 - acc: 0.7228\n",
      "Epoch 22/40\n",
      "7896/7896 [==============================] - 1s 66us/sample - loss: 0.5700 - acc: 0.7247\n",
      "Epoch 23/40\n",
      "7896/7896 [==============================] - 1s 64us/sample - loss: 0.5675 - acc: 0.7266\n",
      "Epoch 24/40\n",
      "7896/7896 [==============================] - 1s 65us/sample - loss: 0.5706 - acc: 0.7237\n",
      "Epoch 25/40\n",
      "7896/7896 [==============================] - 1s 64us/sample - loss: 0.5675 - acc: 0.7268\n",
      "Epoch 26/40\n",
      "7896/7896 [==============================] - 0s 63us/sample - loss: 0.5679 - acc: 0.7257\n",
      "Epoch 27/40\n",
      "7896/7896 [==============================] - 1s 64us/sample - loss: 0.5697 - acc: 0.7285\n",
      "Epoch 28/40\n",
      "7896/7896 [==============================] - 1s 65us/sample - loss: 0.5673 - acc: 0.7263\n",
      "Epoch 29/40\n",
      "7896/7896 [==============================] - 1s 65us/sample - loss: 0.5694 - acc: 0.7244\n",
      "Epoch 30/40\n",
      "7896/7896 [==============================] - 0s 63us/sample - loss: 0.5679 - acc: 0.7292\n",
      "Epoch 31/40\n",
      "7896/7896 [==============================] - 0s 63us/sample - loss: 0.5642 - acc: 0.7305\n",
      "Epoch 32/40\n",
      "7896/7896 [==============================] - 1s 65us/sample - loss: 0.5669 - acc: 0.7237\n",
      "Epoch 33/40\n",
      "7896/7896 [==============================] - 1s 64us/sample - loss: 0.5674 - acc: 0.7295\n",
      "Epoch 34/40\n",
      "7896/7896 [==============================] - 1s 65us/sample - loss: 0.5642 - acc: 0.7267\n",
      "Epoch 35/40\n",
      "7896/7896 [==============================] - 1s 64us/sample - loss: 0.5629 - acc: 0.7262\n",
      "Epoch 36/40\n",
      "7896/7896 [==============================] - 1s 65us/sample - loss: 0.5651 - acc: 0.7277\n",
      "Epoch 37/40\n",
      "7896/7896 [==============================] - 1s 63us/sample - loss: 0.5717 - acc: 0.7252\n",
      "Epoch 38/40\n",
      "7896/7896 [==============================] - 1s 64us/sample - loss: 0.5653 - acc: 0.7237\n",
      "Epoch 39/40\n",
      "7896/7896 [==============================] - 1s 65us/sample - loss: 0.5619 - acc: 0.7254\n",
      "Epoch 40/40\n",
      "7896/7896 [==============================] - 1s 64us/sample - loss: 0.5660 - acc: 0.7252\n",
      "1975/1975 [==============================] - 0s 32us/sample - loss: 0.5428 - acc: 0.7423\n"
     ]
    }
   ],
   "source": [
    "model.train(dataset.get_x_train(), dataset.get_y_train(), epochs=40)\n",
    "loss, accuracy = model.evaluate(dataset.get_x_test(), dataset.get_y_test())"
   ]
  },
  {
   "cell_type": "code",
   "execution_count": 6,
   "metadata": {},
   "outputs": [],
   "source": [
    "model.save_model('../model/HELOC/{:.4f}_{}.h5'.format(accuracy, model_config))"
   ]
  },
  {
   "cell_type": "code",
   "execution_count": null,
   "metadata": {},
   "outputs": [],
   "source": []
  }
 ],
 "metadata": {
  "kernelspec": {
   "display_name": "cf-env",
   "language": "python",
   "name": "cf-env"
  },
  "language_info": {
   "codemirror_mode": {
    "name": "ipython",
    "version": 3
   },
   "file_extension": ".py",
   "mimetype": "text/x-python",
   "name": "python",
   "nbconvert_exporter": "python",
   "pygments_lexer": "ipython3",
   "version": "3.7.1"
  }
 },
 "nbformat": 4,
 "nbformat_minor": 2
}
