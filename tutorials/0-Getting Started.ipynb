{
 "cells": [
  {
   "cell_type": "markdown",
   "metadata": {},
   "source": [
    "# 0. Getting Started with DECE Engine"
   ]
  },
  {
   "cell_type": "code",
   "execution_count": 1,
   "metadata": {},
   "outputs": [],
   "source": [
    "from cf_ml.dataset import load_diabetes_dataset\n",
    "from cf_ml.model import PytorchModelManager\n",
    "from cf_ml.cf_engine import CFEnginePytorch"
   ]
  },
  {
   "cell_type": "markdown",
   "metadata": {},
   "source": [
    "Prepare for the dataset and the model."
   ]
  },
  {
   "cell_type": "code",
   "execution_count": 2,
   "metadata": {},
   "outputs": [
    {
     "name": "stdout",
     "output_type": "stream",
     "text": [
      "Train Accuracy: 0.788, Test Accuracy: 0.779\n"
     ]
    }
   ],
   "source": [
    "# load the sample PIMA dataset\n",
    "dataset = load_diabetes_dataset()\n",
    "\n",
    "# set the target model \n",
    "model = None\n",
    "retrain = True\n",
    "\n",
    "# initialize the model manager with the sample dataset\n",
    "model_manager = PytorchModelManager(dataset, model=model)\n",
    "\n",
    "# (re)train the model if needed\n",
    "if retrain:\n",
    "    model_manager.train(verbose=False)\n",
    "\n",
    "print(\"Train Accuracy: {:.3f}, Test Accuracy: {:.3f}\".format(\n",
    "    model_manager.evaluate('train'), model_manager.evaluate('test')))"
   ]
  },
  {
   "cell_type": "code",
   "execution_count": 3,
   "metadata": {},
   "outputs": [],
   "source": [
    "# initialize DECE engine\n",
    "engine = CFEnginePytorch(dataset, model_manager)"
   ]
  },
  {
   "cell_type": "markdown",
   "metadata": {},
   "source": [
    "## Use Case-1: Basic Usage\n",
    "Generate one counterfactual explanation for a target example."
   ]
  },
  {
   "cell_type": "code",
   "execution_count": 4,
   "metadata": {},
   "outputs": [],
   "source": [
    "# an example instance that contains all attribute values from a patient\n",
    "example = {\n",
    "    'Pregnancies': 0,\n",
    "    'Glucose': 120,\n",
    "    'BloodPressure': 70,\n",
    "    'SkinThickness': 25,\n",
    "    'BMI': 30,\n",
    "    'Insulin': 80,\n",
    "    'DiabetesPedigreeFunction': 0.5,\n",
    "    'Age': 40,\n",
    "}"
   ]
  },
  {
   "cell_type": "code",
   "execution_count": 5,
   "metadata": {},
   "outputs": [
    {
     "name": "stdout",
     "output_type": "stream",
     "text": [
      "[1/1]  Epoch-0, time cost: 0.367s, loss: 0.001, iteration: 500, validation rate: 1.000\n"
     ]
    },
    {
     "data": {
      "text/html": [
       "<div>\n",
       "<style scoped>\n",
       "    .dataframe tbody tr th:only-of-type {\n",
       "        vertical-align: middle;\n",
       "    }\n",
       "\n",
       "    .dataframe tbody tr th {\n",
       "        vertical-align: top;\n",
       "    }\n",
       "\n",
       "    .dataframe thead th {\n",
       "        text-align: right;\n",
       "    }\n",
       "</style>\n",
       "<table border=\"1\" class=\"dataframe\">\n",
       "  <thead>\n",
       "    <tr style=\"text-align: right;\">\n",
       "      <th></th>\n",
       "      <th>Pregnancies</th>\n",
       "      <th>Glucose</th>\n",
       "      <th>BloodPressure</th>\n",
       "      <th>SkinThickness</th>\n",
       "      <th>Insulin</th>\n",
       "      <th>BMI</th>\n",
       "      <th>DiabetesPedigreeFunction</th>\n",
       "      <th>Age</th>\n",
       "      <th>Outcome</th>\n",
       "      <th>Outcome_pred</th>\n",
       "    </tr>\n",
       "  </thead>\n",
       "  <tbody>\n",
       "    <tr>\n",
       "      <th>0</th>\n",
       "      <td>0.0</td>\n",
       "      <td>123.0</td>\n",
       "      <td>70.0</td>\n",
       "      <td>25.0</td>\n",
       "      <td>80.0</td>\n",
       "      <td>33.1</td>\n",
       "      <td>0.584</td>\n",
       "      <td>41.0</td>\n",
       "      <td>positive</td>\n",
       "      <td>positive</td>\n",
       "    </tr>\n",
       "  </tbody>\n",
       "</table>\n",
       "</div>"
      ],
      "text/plain": [
       "   Pregnancies  Glucose  BloodPressure  SkinThickness  Insulin   BMI  \\\n",
       "0          0.0    123.0           70.0           25.0     80.0  33.1   \n",
       "\n",
       "   DiabetesPedigreeFunction   Age   Outcome Outcome_pred  \n",
       "0                     0.584  41.0  positive     positive  "
      ]
     },
     "execution_count": 5,
     "metadata": {},
     "output_type": "execute_result"
    }
   ],
   "source": [
    "# generate one counterfactual explanation to the example\n",
    "counterfactuals = engine.generate_counterfactual_examples(example)\n",
    "\n",
    "# log the generated counterfactual explanation in [feature_1, feature_2, ..., target_class, prediction_class]\n",
    "counterfactuals.all"
   ]
  },
  {
   "cell_type": "markdown",
   "metadata": {},
   "source": [
    "## Use Case-2: Generate Counterfactual Examples for Multiple Examples\n",
    "Generate counterfactual explanations for each target example."
   ]
  },
  {
   "cell_type": "code",
   "execution_count": 6,
   "metadata": {},
   "outputs": [],
   "source": [
    "# load 500 examples stored in a pandas.DataFrame\n",
    "examples = dataset.get_train_X(preprocess=False).iloc[:500]"
   ]
  },
  {
   "cell_type": "code",
   "execution_count": 7,
   "metadata": {},
   "outputs": [
    {
     "name": "stdout",
     "output_type": "stream",
     "text": [
      "[500/500]  Epoch-0, time cost: 0.842s, loss: 1.765, iteration: 523, validation rate: 0.996\n"
     ]
    },
    {
     "data": {
      "text/html": [
       "<div>\n",
       "<style scoped>\n",
       "    .dataframe tbody tr th:only-of-type {\n",
       "        vertical-align: middle;\n",
       "    }\n",
       "\n",
       "    .dataframe tbody tr th {\n",
       "        vertical-align: top;\n",
       "    }\n",
       "\n",
       "    .dataframe thead th {\n",
       "        text-align: right;\n",
       "    }\n",
       "</style>\n",
       "<table border=\"1\" class=\"dataframe\">\n",
       "  <thead>\n",
       "    <tr style=\"text-align: right;\">\n",
       "      <th></th>\n",
       "      <th>Pregnancies</th>\n",
       "      <th>Glucose</th>\n",
       "      <th>BloodPressure</th>\n",
       "      <th>SkinThickness</th>\n",
       "      <th>Insulin</th>\n",
       "      <th>BMI</th>\n",
       "      <th>DiabetesPedigreeFunction</th>\n",
       "      <th>Age</th>\n",
       "      <th>Outcome</th>\n",
       "      <th>Outcome_pred</th>\n",
       "    </tr>\n",
       "  </thead>\n",
       "  <tbody>\n",
       "    <tr>\n",
       "      <th>0</th>\n",
       "      <td>7.0</td>\n",
       "      <td>113.0</td>\n",
       "      <td>85.0</td>\n",
       "      <td>29.0</td>\n",
       "      <td>131.0</td>\n",
       "      <td>31.8</td>\n",
       "      <td>0.584</td>\n",
       "      <td>55.0</td>\n",
       "      <td>negative</td>\n",
       "      <td>negative</td>\n",
       "    </tr>\n",
       "    <tr>\n",
       "      <th>1</th>\n",
       "      <td>5.0</td>\n",
       "      <td>125.0</td>\n",
       "      <td>60.0</td>\n",
       "      <td>23.0</td>\n",
       "      <td>0.0</td>\n",
       "      <td>34.2</td>\n",
       "      <td>0.557</td>\n",
       "      <td>28.0</td>\n",
       "      <td>positive</td>\n",
       "      <td>positive</td>\n",
       "    </tr>\n",
       "    <tr>\n",
       "      <th>2</th>\n",
       "      <td>1.0</td>\n",
       "      <td>165.0</td>\n",
       "      <td>95.0</td>\n",
       "      <td>34.0</td>\n",
       "      <td>680.0</td>\n",
       "      <td>52.3</td>\n",
       "      <td>0.427</td>\n",
       "      <td>27.0</td>\n",
       "      <td>positive</td>\n",
       "      <td>positive</td>\n",
       "    </tr>\n",
       "    <tr>\n",
       "      <th>3</th>\n",
       "      <td>1.0</td>\n",
       "      <td>131.0</td>\n",
       "      <td>55.0</td>\n",
       "      <td>24.0</td>\n",
       "      <td>141.0</td>\n",
       "      <td>31.4</td>\n",
       "      <td>0.921</td>\n",
       "      <td>29.0</td>\n",
       "      <td>positive</td>\n",
       "      <td>positive</td>\n",
       "    </tr>\n",
       "    <tr>\n",
       "      <th>4</th>\n",
       "      <td>8.0</td>\n",
       "      <td>110.0</td>\n",
       "      <td>0.0</td>\n",
       "      <td>0.0</td>\n",
       "      <td>25.0</td>\n",
       "      <td>29.8</td>\n",
       "      <td>0.175</td>\n",
       "      <td>38.0</td>\n",
       "      <td>negative</td>\n",
       "      <td>negative</td>\n",
       "    </tr>\n",
       "  </tbody>\n",
       "</table>\n",
       "</div>"
      ],
      "text/plain": [
       "   Pregnancies  Glucose  BloodPressure  SkinThickness  Insulin   BMI  \\\n",
       "0          7.0    113.0           85.0           29.0    131.0  31.8   \n",
       "1          5.0    125.0           60.0           23.0      0.0  34.2   \n",
       "2          1.0    165.0           95.0           34.0    680.0  52.3   \n",
       "3          1.0    131.0           55.0           24.0    141.0  31.4   \n",
       "4          8.0    110.0            0.0            0.0     25.0  29.8   \n",
       "\n",
       "   DiabetesPedigreeFunction   Age   Outcome Outcome_pred  \n",
       "0                     0.584  55.0  negative     negative  \n",
       "1                     0.557  28.0  positive     positive  \n",
       "2                     0.427  27.0  positive     positive  \n",
       "3                     0.921  29.0  positive     positive  \n",
       "4                     0.175  38.0  negative     negative  "
      ]
     },
     "execution_count": 7,
     "metadata": {},
     "output_type": "execute_result"
    }
   ],
   "source": [
    "counterfactuals = engine.generate_counterfactual_examples(examples)\n",
    "\n",
    "# log all valid counterfactual explanations\n",
    "counterfactuals.valid.head()"
   ]
  },
  {
   "cell_type": "markdown",
   "metadata": {},
   "source": [
    "## Use Case-3: Generate Customized Counterfactual Examples \n",
    "Generate counterfactual explanations with constraints."
   ]
  },
  {
   "cell_type": "code",
   "execution_count": 8,
   "metadata": {},
   "outputs": [],
   "source": [
    "# settings for generating customized counterfactual explanations\n",
    "\n",
    "# num (int): number of counterfactual explanations for each example\n",
    "# k (int): the most number of changeable attributes\n",
    "# changeable_attr (list): attributes that are allowed to change\n",
    "# cf_range (dict): variation ranges of counterfactual explanations\n",
    "\n",
    "setting = {\n",
    "    'num': 5, \n",
    "    'changeable_attr': ['Glucose', 'BMI', 'BloodPressure'], \n",
    "    'cf_range': { \n",
    "        'BloodPressure': {\n",
    "            'min': 50,\n",
    "            'max': 120,\n",
    "        },\n",
    "        'BMI': {\n",
    "            'min': 20,\n",
    "            'max': 50\n",
    "        }\n",
    "    }\n",
    "}"
   ]
  },
  {
   "cell_type": "code",
   "execution_count": 9,
   "metadata": {
    "scrolled": false
   },
   "outputs": [
    {
     "name": "stdout",
     "output_type": "stream",
     "text": [
      "[1/1]  Epoch-0, time cost: 0.764s, loss: -0.001, iteration: 500, validation rate: 1.000\n"
     ]
    },
    {
     "data": {
      "text/html": [
       "<div>\n",
       "<style scoped>\n",
       "    .dataframe tbody tr th:only-of-type {\n",
       "        vertical-align: middle;\n",
       "    }\n",
       "\n",
       "    .dataframe tbody tr th {\n",
       "        vertical-align: top;\n",
       "    }\n",
       "\n",
       "    .dataframe thead th {\n",
       "        text-align: right;\n",
       "    }\n",
       "</style>\n",
       "<table border=\"1\" class=\"dataframe\">\n",
       "  <thead>\n",
       "    <tr style=\"text-align: right;\">\n",
       "      <th></th>\n",
       "      <th>Pregnancies</th>\n",
       "      <th>Glucose</th>\n",
       "      <th>BloodPressure</th>\n",
       "      <th>SkinThickness</th>\n",
       "      <th>Insulin</th>\n",
       "      <th>BMI</th>\n",
       "      <th>DiabetesPedigreeFunction</th>\n",
       "      <th>Age</th>\n",
       "      <th>Outcome</th>\n",
       "      <th>Outcome_pred</th>\n",
       "    </tr>\n",
       "  </thead>\n",
       "  <tbody>\n",
       "    <tr>\n",
       "      <th>0</th>\n",
       "      <td>0.0</td>\n",
       "      <td>117.0</td>\n",
       "      <td>70.0</td>\n",
       "      <td>25.0</td>\n",
       "      <td>80.0</td>\n",
       "      <td>38.1</td>\n",
       "      <td>0.5</td>\n",
       "      <td>40.0</td>\n",
       "      <td>positive</td>\n",
       "      <td>positive</td>\n",
       "    </tr>\n",
       "    <tr>\n",
       "      <th>1</th>\n",
       "      <td>0.0</td>\n",
       "      <td>123.0</td>\n",
       "      <td>67.0</td>\n",
       "      <td>25.0</td>\n",
       "      <td>80.0</td>\n",
       "      <td>35.2</td>\n",
       "      <td>0.5</td>\n",
       "      <td>40.0</td>\n",
       "      <td>positive</td>\n",
       "      <td>positive</td>\n",
       "    </tr>\n",
       "    <tr>\n",
       "      <th>2</th>\n",
       "      <td>0.0</td>\n",
       "      <td>142.0</td>\n",
       "      <td>83.0</td>\n",
       "      <td>25.0</td>\n",
       "      <td>80.0</td>\n",
       "      <td>28.7</td>\n",
       "      <td>0.5</td>\n",
       "      <td>40.0</td>\n",
       "      <td>positive</td>\n",
       "      <td>positive</td>\n",
       "    </tr>\n",
       "    <tr>\n",
       "      <th>3</th>\n",
       "      <td>0.0</td>\n",
       "      <td>133.0</td>\n",
       "      <td>70.0</td>\n",
       "      <td>25.0</td>\n",
       "      <td>80.0</td>\n",
       "      <td>30.0</td>\n",
       "      <td>0.5</td>\n",
       "      <td>40.0</td>\n",
       "      <td>positive</td>\n",
       "      <td>positive</td>\n",
       "    </tr>\n",
       "    <tr>\n",
       "      <th>4</th>\n",
       "      <td>0.0</td>\n",
       "      <td>122.0</td>\n",
       "      <td>76.0</td>\n",
       "      <td>25.0</td>\n",
       "      <td>80.0</td>\n",
       "      <td>35.7</td>\n",
       "      <td>0.5</td>\n",
       "      <td>40.0</td>\n",
       "      <td>positive</td>\n",
       "      <td>positive</td>\n",
       "    </tr>\n",
       "  </tbody>\n",
       "</table>\n",
       "</div>"
      ],
      "text/plain": [
       "   Pregnancies  Glucose  BloodPressure  SkinThickness  Insulin   BMI  \\\n",
       "0          0.0    117.0           70.0           25.0     80.0  38.1   \n",
       "1          0.0    123.0           67.0           25.0     80.0  35.2   \n",
       "2          0.0    142.0           83.0           25.0     80.0  28.7   \n",
       "3          0.0    133.0           70.0           25.0     80.0  30.0   \n",
       "4          0.0    122.0           76.0           25.0     80.0  35.7   \n",
       "\n",
       "   DiabetesPedigreeFunction   Age   Outcome Outcome_pred  \n",
       "0                       0.5  40.0  positive     positive  \n",
       "1                       0.5  40.0  positive     positive  \n",
       "2                       0.5  40.0  positive     positive  \n",
       "3                       0.5  40.0  positive     positive  \n",
       "4                       0.5  40.0  positive     positive  "
      ]
     },
     "execution_count": 9,
     "metadata": {},
     "output_type": "execute_result"
    }
   ],
   "source": [
    "counterfactuals = engine.generate_counterfactual_examples(example, setting=setting)\n",
    "\n",
    "# log all valid counterfactual explanations\n",
    "counterfactuals.valid"
   ]
  }
 ],
 "metadata": {
  "kernelspec": {
   "display_name": "cf-env21",
   "language": "python",
   "name": "cf-env21"
  },
  "language_info": {
   "codemirror_mode": {
    "name": "ipython",
    "version": 3
   },
   "file_extension": ".py",
   "mimetype": "text/x-python",
   "name": "python",
   "nbconvert_exporter": "python",
   "pygments_lexer": "ipython3",
   "version": "3.7.1"
  }
 },
 "nbformat": 4,
 "nbformat_minor": 4
}
